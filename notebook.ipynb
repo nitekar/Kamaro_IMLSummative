{
  "cells": [
    {
      "cell_type": "markdown",
      "metadata": {
        "id": "view-in-github",
        "colab_type": "text"
      },
      "source": [
        "<a href=\"https://colab.research.google.com/github/nitekar/Kamaro_IMLSummative/blob/main/notebook.ipynb\" target=\"_parent\"><img src=\"https://colab.research.google.com/assets/colab-badge.svg\" alt=\"Open In Colab\"/></a>"
      ]
    },
    {
      "cell_type": "markdown",
      "metadata": {
        "id": "ujuLMxSvoXbg"
      },
      "source": [
        "# Optimization Techniques in Machine Learning\n",
        "\n",
        "Objective: This assignment aims to explore implementation or Machine Learning Models with regularization, optimization and Error analysis  techniques used in machine learning to improve models' performance, convergence speed, and efficiency..\n",
        "\n",
        "A Notebook detailing the following\n",
        "\n",
        "* Project name : Kamaro vulnerability classification\n",
        "* Clear out puts from cells\n",
        "\n",
        "\n",
        "\n",
        "\n",
        "\n",
        "\n",
        "**Instructions**\n",
        "\n",
        "1. Acquire a dataset suitable for ML tasks as per your proposal.\n",
        "2. Implement a simple machine learning model based on neural networks on the chosen dataset without any defined optimization techniques. (Check instructions)\n",
        "3. Implement and compare the model's performance after applying 3 to 4 disntict combinations regularization and optimization techniques.\n",
        "4. Discuss the results on the README file.\n",
        "5. Make predictions using test data\n",
        "7. Implement error analysis techniques and ensure there is: F1-Score, Recall, Precision, RUC a confusion matrix using plotting libraries (not verbose)\n",
        "\n",
        "Submit notebook to github repo\n",
        "\n"
      ]
    },
    {
      "cell_type": "markdown",
      "metadata": {
        "id": "o8VW_IzbI3od"
      },
      "source": [
        "\n",
        "# Case Study and Implementation\n",
        "\n",
        "\n"
      ]
    },
    {
      "cell_type": "code",
      "execution_count": null,
      "metadata": {
        "colab": {
          "base_uri": "https://localhost:8080/"
        },
        "id": "wGCnpzs9M4Fd",
        "outputId": "befd2ac1-b6c1-4eab-e1f9-7d5dd7c00729"
      },
      "outputs": [
        {
          "output_type": "stream",
          "name": "stdout",
          "text": [
            "Libraries imported successfully!\n"
          ]
        }
      ],
      "source": [
        "import pandas as pd\n",
        "import numpy as np\n",
        "import matplotlib.pyplot as plt\n",
        "import seaborn as sns\n",
        "\n",
        "from sklearn.model_selection import train_test_split, GridSearchCV\n",
        "from sklearn.preprocessing import StandardScaler\n",
        "from sklearn.linear_model import LogisticRegression\n",
        "from sklearn.metrics import confusion_matrix, f1_score, precision_score, recall_score, accuracy_score\n",
        "import xgboost as xgb\n",
        "\n",
        "from tensorflow.keras.models import Sequential, load_model\n",
        "from tensorflow.keras.layers import Dense, Dropout\n",
        "from tensorflow.keras.optimizers import Adam, RMSprop, SGD\n",
        "from tensorflow.keras.regularizers import l2\n",
        "from tensorflow.keras.callbacks import EarlyStopping\n",
        "\n",
        "import warnings\n",
        "warnings.filterwarnings('ignore')\n",
        "\n",
        "print(\"Libraries imported successfully!\")"
      ]
    },
    {
      "cell_type": "markdown",
      "metadata": {
        "id": "M1FN7bFeIxfH"
      },
      "source": [
        "# The Dataset\n",
        "> ***Brief Description:***\n",
        "State the Problem and A short Description of the data\n",
        "\n",
        "\n",
        "###Problem: Fighting poverty and providing the people of backward countries with basic amenities and relief during the time of disasters and natural calamities.\n",
        "\n",
        "###Dataset contains some socio-economic and health factors that determine the overall development of the country.\n"
      ]
    },
    {
      "cell_type": "markdown",
      "metadata": {
        "id": "0UQBDWABgpkW"
      },
      "source": []
    },
    {
      "cell_type": "code",
      "execution_count": null,
      "metadata": {
        "colab": {
          "base_uri": "https://localhost:8080/"
        },
        "id": "nas-T7xwPIso",
        "outputId": "9071bb5e-909d-45e6-f00d-261d2b99ff43"
      },
      "outputs": [
        {
          "output_type": "stream",
          "name": "stdout",
          "text": [
            "Training set: (133, 8), Test set: (34, 8)\n"
          ]
        }
      ],
      "source": [
        "def load_kamaro_data(filepath):\n",
        "    df = pd.read_csv(\"Country-data.csv\")\n",
        "\n",
        "    df['country'] = pd.qcut(df['child_mort'], q=3, labels=[0, 1, 2])\n",
        "\n",
        "    # Drop unused\n",
        "    features = df.drop(['child_mort', 'country'], axis=1)\n",
        "    labels = df['country'].astype(int)\n",
        "\n",
        "    return train_test_split(features, labels, test_size=0.2, random_state=42, stratify=labels)\n",
        "\n",
        "X_train, X_test, y_train, y_test = load_kamaro_data(\"Country-data.csv\")\n",
        "\n",
        "# Optional scaling\n",
        "scaler = StandardScaler()\n",
        "X_train_scaled = scaler.fit_transform(X_train)\n",
        "X_test_scaled = scaler.transform(X_test)\n",
        "\n",
        "print(f\"Training set: {X_train.shape}, Test set: {X_test.shape}\")"
      ]
    },
    {
      "cell_type": "markdown",
      "metadata": {
        "id": "ve4AiQmGMzIN"
      },
      "source": [
        "#SECTION 1: Model Architecture:\n",
        "\n",
        "\n",
        "\n",
        "```\n",
        "TODO: Insert an image with the Model architecture here.Replace the image Below\n",
        "```\n",
        "> <img src=\"https://miro.medium.com/v2/resize:fit:640/format:webp/1*v1ohAG82xmU6WGsG2hoE8g.png\" alt=\"?\" style=\"width:25px\"/>\n",
        "\n",
        "\n"
      ]
    },
    {
      "cell_type": "markdown",
      "metadata": {
        "id": "QR4BNYoUMzMP"
      },
      "source": [
        "#Task: Define a function that creates models without and With specified Optimization techniques\n"
      ]
    },
    {
      "cell_type": "code",
      "execution_count": null,
      "metadata": {
        "colab": {
          "base_uri": "https://localhost:8080/"
        },
        "id": "gGtPmYb_SDHy",
        "outputId": "27072c02-0450-4e5c-99af-73ca498e007c"
      },
      "outputs": [
        {
          "output_type": "stream",
          "name": "stdout",
          "text": [
            "Best Params: {'C': 0.01, 'solver': 'lbfgs'}\n",
            "Accuracy: 0.8235294117647058\n",
            "F1 Score: 0.8184149184149184\n"
          ]
        }
      ],
      "source": [
        "#Logistic Regression\n",
        "lr_params = {\n",
        "    'C': [0.01, 0.1, 1, 10],\n",
        "    'solver': ['liblinear', 'lbfgs']\n",
        "}\n",
        "\n",
        "lr_model = GridSearchCV(LogisticRegression(max_iter=1000), lr_params, cv=5, scoring='f1_macro')\n",
        "lr_model.fit(X_train_scaled, y_train)\n",
        "\n",
        "lr_best = lr_model.best_estimator_\n",
        "lr_pred = lr_best.predict(X_test_scaled)\n",
        "\n",
        "print(\"Best Params:\", lr_model.best_params_)\n",
        "print(\"Accuracy:\", accuracy_score(y_test, lr_pred))\n",
        "print(\"F1 Score:\", f1_score(y_test, lr_pred, average='macro'))\n"
      ]
    },
    {
      "cell_type": "code",
      "source": [
        "# Simple Neural Network\n",
        "def build_simple_nn(input_dim, num_classes):\n",
        "    model = Sequential([\n",
        "        Dense(64, activation='relu', input_shape=(input_dim,)),\n",
        "        Dense(32, activation='relu'),\n",
        "        Dense(num_classes, activation='softmax')\n",
        "    ])\n",
        "    model.compile(optimizer='adam', loss='sparse_categorical_crossentropy', metrics=['accuracy'])\n",
        "    return model\n",
        "\n",
        "simple_model = build_simple_nn(X_train_scaled.shape[1], 3)\n",
        "simple_model.fit(X_train_scaled, y_train, epochs=50, batch_size=32, verbose=0)\n",
        "\n",
        "simple_preds = np.argmax(simple_model.predict(X_test_scaled), axis=1)\n",
        "print(\"Simple NN Accuracy:\", accuracy_score(y_test, simple_preds))\n",
        "\n"
      ],
      "metadata": {
        "colab": {
          "base_uri": "https://localhost:8080/"
        },
        "id": "DokEM5j1rj5d",
        "outputId": "30711a03-25aa-4f76-f9e3-006e24a1982e"
      },
      "execution_count": null,
      "outputs": [
        {
          "output_type": "stream",
          "name": "stdout",
          "text": [
            "\u001b[1m2/2\u001b[0m \u001b[32m━━━━━━━━━━━━━━━━━━━━\u001b[0m\u001b[37m\u001b[0m \u001b[1m0s\u001b[0m 50ms/step\n",
            "Simple NN Accuracy: 0.8235294117647058\n"
          ]
        }
      ]
    },
    {
      "cell_type": "code",
      "source": [
        "def build_optimized_nn(input_dim, num_classes, optimizer='adam', lr=0.001, dropout=0.3, l2_reg=0.001):\n",
        "    model = Sequential([\n",
        "        Dense(128, activation='relu', kernel_regularizer=l2(l2_reg), input_shape=(input_dim,)),\n",
        "        Dropout(dropout),\n",
        "        Dense(64, activation='relu', kernel_regularizer=l2(l2_reg)),\n",
        "        Dropout(dropout),\n",
        "        Dense(32, activation='relu', kernel_regularizer=l2(l2_reg)),\n",
        "        Dense(num_classes, activation='softmax')\n",
        "    ])\n",
        "\n",
        "    if optimizer == 'adam':\n",
        "        opt = Adam(learning_rate=lr)\n",
        "    elif optimizer == 'rmsprop':\n",
        "        opt = RMSprop(learning_rate=lr)\n",
        "    else:\n",
        "        opt = SGD(learning_rate=lr)\n",
        "\n",
        "    model.compile(optimizer=opt, loss='sparse_categorical_crossentropy', metrics=['accuracy'])\n",
        "    return model\n"
      ],
      "metadata": {
        "id": "fAmOKkDfr8JI"
      },
      "execution_count": null,
      "outputs": []
    },
    {
      "cell_type": "code",
      "source": [
        "results = []\n",
        "histories = []\n",
        "predictions = []\n",
        "\n",
        "configs = [\n",
        "    {'optimizer': 'adam', 'lr': 0.001, 'dropout': 0.3, 'l2': 0.001, 'early_stop': False},\n",
        "    {'optimizer': 'adam', 'lr': 0.01, 'dropout': 0.4, 'l2': 0.01, 'early_stop': True},\n",
        "    {'optimizer': 'rmsprop', 'lr': 0.005, 'dropout': 0.5, 'l2': 0.005, 'early_stop': False},\n",
        "    {'optimizer': 'sgd', 'lr': 0.01, 'dropout': 0.2, 'l2': 0.01, 'early_stop': True},\n",
        "    {'optimizer': 'adam', 'lr': 0.1, 'dropout': 0.6, 'l2': 0.1, 'early_stop': False},\n",
        "]\n",
        "\n",
        "for i, cfg in enumerate(configs):\n",
        "    print(f\"\\nTraining NN Instance {i+1}\")\n",
        "    model = build_optimized_nn(X_train_scaled.shape[1], 3,\n",
        "                               optimizer=cfg['optimizer'],\n",
        "                               lr=cfg['lr'],\n",
        "                               dropout=cfg['dropout'],\n",
        "                               l2_reg=cfg['l2'])\n",
        "\n",
        "    callbacks = [EarlyStopping(monitor='val_loss', patience=10, restore_best_weights=True)] if cfg['early_stop'] else []\n",
        "\n",
        "    history = model.fit(X_train_scaled, y_train,\n",
        "                        validation_split=0.2,\n",
        "                        epochs=100, batch_size=32,\n",
        "                        callbacks=callbacks, verbose=0)\n",
        "\n",
        "    pred = np.argmax(model.predict(X_test_scaled), axis=1)\n",
        "\n",
        "    results.append({\n",
        "        'Instance': i + 1,\n",
        "        'Optimizer': cfg['optimizer'],\n",
        "        'Learning_Rate': cfg['lr'],\n",
        "        'Dropout': cfg['dropout'],\n",
        "        'L2_Regularization': cfg['l2'],\n",
        "        'Early_Stopping': 'Yes' if cfg['early_stop'] else 'No',\n",
        "        'Epochs': len(history.history['loss']),\n",
        "        'Accuracy': accuracy_score(y_test, pred),\n",
        "        'F1': f1_score(y_test, pred, average='macro'),\n",
        "        'Precision': precision_score(y_test, pred, average='macro'),\n",
        "        'Recall': recall_score(y_test, pred, average='macro')\n",
        "    })\n",
        "\n",
        "    predictions.append(pred)\n",
        "    histories.append(history)\n"
      ],
      "metadata": {
        "colab": {
          "base_uri": "https://localhost:8080/"
        },
        "id": "3rAloxkcsPWv",
        "outputId": "fc14a4d9-9b8d-4736-e8a0-cbd52b0e025d"
      },
      "execution_count": null,
      "outputs": [
        {
          "output_type": "stream",
          "name": "stdout",
          "text": [
            "\n",
            "Training NN Instance 1\n",
            "\u001b[1m2/2\u001b[0m \u001b[32m━━━━━━━━━━━━━━━━━━━━\u001b[0m\u001b[37m\u001b[0m \u001b[1m0s\u001b[0m 58ms/step\n",
            "\n",
            "Training NN Instance 2\n",
            "\u001b[1m2/2\u001b[0m \u001b[32m━━━━━━━━━━━━━━━━━━━━\u001b[0m\u001b[37m\u001b[0m \u001b[1m0s\u001b[0m 59ms/step\n",
            "\n",
            "Training NN Instance 3\n",
            "\u001b[1m2/2\u001b[0m \u001b[32m━━━━━━━━━━━━━━━━━━━━\u001b[0m\u001b[37m\u001b[0m \u001b[1m0s\u001b[0m 62ms/step\n",
            "\n",
            "Training NN Instance 4\n",
            "\u001b[1m2/2\u001b[0m \u001b[32m━━━━━━━━━━━━━━━━━━━━\u001b[0m\u001b[37m\u001b[0m \u001b[1m0s\u001b[0m 73ms/step\n",
            "\n",
            "Training NN Instance 5\n",
            "\u001b[1m2/2\u001b[0m \u001b[32m━━━━━━━━━━━━━━━━━━━━\u001b[0m\u001b[37m\u001b[0m \u001b[1m0s\u001b[0m 58ms/step\n"
          ]
        }
      ]
    },
    {
      "cell_type": "markdown",
      "metadata": {
        "id": "KJ9OXp1TSaXn"
      },
      "source": [
        "# Task: Print out the Final Model Accuracy and plot the Loss curve"
      ]
    },
    {
      "cell_type": "code",
      "execution_count": null,
      "metadata": {
        "colab": {
          "base_uri": "https://localhost:8080/"
        },
        "id": "fkihQBsaUxGh",
        "outputId": "7aeec48b-470d-4349-9329-5a14afbd5167"
      },
      "outputs": [
        {
          "output_type": "stream",
          "name": "stdout",
          "text": [
            "Optimized Neural Network Results:\n",
            "   Instance Optimizer  Learning_Rate  Dropout  L2_Regularization  \\\n",
            "0         1      adam          0.001      0.3              0.001   \n",
            "1         2      adam          0.010      0.4              0.010   \n",
            "2         3   rmsprop          0.005      0.5              0.005   \n",
            "3         4       sgd          0.010      0.2              0.010   \n",
            "4         5      adam          0.100      0.6              0.100   \n",
            "\n",
            "  Early_Stopping  Epochs  Accuracy      F1  Precision  Recall  \n",
            "0             No     100    0.7647  0.7594     0.7608  0.7601  \n",
            "1            Yes      28    0.8235  0.8165     0.8191  0.8207  \n",
            "2             No     100    0.8824  0.8835     0.8881  0.8813  \n",
            "3            Yes     100    0.8235  0.8184     0.8242  0.8207  \n",
            "4             No     100    0.3529  0.1739     0.1176  0.3333  \n"
          ]
        }
      ],
      "source": [
        "results_df = pd.DataFrame(results)\n",
        "print(\"Optimized Neural Network Results:\")\n",
        "print(results_df.round(4))\n"
      ]
    },
    {
      "cell_type": "code",
      "source": [
        "xgb_params = {\n",
        "    'n_estimators': [100],\n",
        "    'max_depth': [3, 5],\n",
        "    'learning_rate': [0.01, 0.1],\n",
        "    'subsample': [0.8, 1.0]\n",
        "}\n",
        "\n",
        "xgb_grid = GridSearchCV(xgb.XGBClassifier(objective='multi:softmax', num_class=3),\n",
        "                        xgb_params, cv=3, scoring='f1_macro', verbose=0)\n",
        "\n",
        "xgb_grid.fit(X_train_scaled, y_train)\n",
        "xgb_model = xgb_grid.best_estimator_\n",
        "\n",
        "xgb_preds = xgb_model.predict(X_test_scaled)\n",
        "print(\"XGBoost Accuracy:\", accuracy_score(y_test, xgb_preds))\n"
      ],
      "metadata": {
        "colab": {
          "base_uri": "https://localhost:8080/"
        },
        "id": "GmhBoh7Qt8dK",
        "outputId": "68b72fae-8959-49c7-e6e6-10d15262982a"
      },
      "execution_count": null,
      "outputs": [
        {
          "output_type": "stream",
          "name": "stdout",
          "text": [
            "XGBoost Accuracy: 0.7647058823529411\n"
          ]
        }
      ]
    },
    {
      "cell_type": "code",
      "source": [
        "best_idx = results_df['F1'].idxmax()\n",
        "best_history = histories[best_idx]\n",
        "best_pred = predictions[best_idx]\n",
        "\n",
        "plt.figure(figsize=(15, 5))\n",
        "plt.subplot(1, 2, 1)\n",
        "plt.plot(best_history.history['loss'], label='Train Loss')\n",
        "plt.plot(best_history.history['val_loss'], label='Val Loss')\n",
        "plt.title('Best Neural Network Loss')\n",
        "plt.legend()\n",
        "\n",
        "plt.subplot(1, 2, 2)\n",
        "cm = confusion_matrix(y_test, best_pred)\n",
        "sns.heatmap(cm, annot=True, fmt='d', cmap='Blues')\n",
        "plt.title('Confusion Matrix')\n",
        "plt.xlabel('Predicted')\n",
        "plt.ylabel('True')\n",
        "plt.tight_layout()\n",
        "plt.show()\n"
      ],
      "metadata": {
        "colab": {
          "base_uri": "https://localhost:8080/",
          "height": 295
        },
        "id": "2voFV_TCuMh7",
        "outputId": "b1e686ac-3c82-4967-f4f6-e233ac9c534d"
      },
      "execution_count": null,
      "outputs": [
        {
          "output_type": "display_data",
          "data": {
            "text/plain": [
              "<Figure size 1500x500 with 3 Axes>"
            ],
            "image/png": "[encoded data removed]"
          },
          "metadata": {}
        }
      ]
    },
    {
      "cell_type": "markdown",
      "metadata": {
        "id": "9hc6k2taT0_n"
      },
      "source": [
        "# SECTION 2: Optimization and Regularization Combinations\n",
        "At this point you should now create models that combine various optimization techniques\n",
        "As done before make sure to plot out the loss curve and the accuracy and loss in verbose"
      ]
    },
    {
      "cell_type": "markdown",
      "metadata": {
        "id": "3aZLEriYOXI1"
      },
      "source": [
        "#Task: Make Predictions using the best saved model\n"
      ]
    },
    {
      "cell_type": "markdown",
      "metadata": {
        "id": "LnBLwqTJX3p0"
      },
      "source": [
        "Create a confusion Matrix and F1 score for both Models. Ensure outputs for the cells are visible"
      ]
    },
    {
      "cell_type": "markdown",
      "metadata": {
        "id": "bO79SOsZYG-M"
      },
      "source": [
        "Finally, Make predictions using the best model. By the time you get to this cell you may realise at some point you needed to save the model so that you cal load it later"
      ]
    },
    {
      "cell_type": "code",
      "execution_count": null,
      "metadata": {
        "id": "Nqqe2PasUIAG"
      },
      "outputs": [],
      "source": [
        "import os\n",
        "best_model = build_optimized_nn(X_train_scaled.shape[1], 3,\n",
        "                                optimizer=configs[best_idx]['optimizer'],\n",
        "                                lr=configs[best_idx]['lr'],\n",
        "                                dropout=configs[best_idx]['dropout'],\n",
        "                                l2_reg=configs[best_idx]['l2'])\n",
        "\n",
        "save_dir = 'saved_models'\n",
        "if not os.path.exists(save_dir):\n",
        "    os.makedirs(save_dir)\n",
        "    print(f\"Created directory: {save_dir}\")\n",
        "\n",
        "best_model.fit(X_train_scaled, y_train, epochs=50, batch_size=32, verbose=0)\n",
        "best_model.save('saved_models/best_kamaro_model.keras')\n"
      ]
    },
    {
      "cell_type": "code",
      "execution_count": null,
      "metadata": {
        "id": "O_jwbvaAUMj4",
        "colab": {
          "base_uri": "https://localhost:8080/"
        },
        "outputId": "f7b01ac7-fdeb-4d59-bde8-bf821598308a"
      },
      "outputs": [
        {
          "output_type": "stream",
          "name": "stdout",
          "text": [
            "\u001b[1m1/1\u001b[0m \u001b[32m━━━━━━━━━━━━━━━━━━━━\u001b[0m\u001b[37m\u001b[0m \u001b[1m0s\u001b[0m 79ms/step\n",
            "[1 0 1 1 2 1 2 1 0 0]\n"
          ]
        }
      ],
      "source": [
        "loaded_model = load_model('saved_models/best_kamaro_model.keras')\n",
        "preds = loaded_model.predict(X_test_scaled[:10])\n",
        "classes = np.argmax(preds, axis=1)\n",
        "print(classes)"
      ]
    },
    {
      "cell_type": "markdown",
      "metadata": {
        "id": "rfTHk2nZMzTH"
      },
      "source": [
        "Congratulations!!\n"
      ]
    }
  ],
  "metadata": {
    "colab": {
      "provenance": [],
      "include_colab_link": true
    },
    "kernelspec": {
      "display_name": "Python 3",
      "name": "python3"
    },
    "language_info": {
      "name": "python"
    }
  },
  "nbformat": 4,
  "nbformat_minor": 0
}