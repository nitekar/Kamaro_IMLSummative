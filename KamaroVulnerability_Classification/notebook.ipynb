{
  "cells": [
    {
      "cell_type": "markdown",
      "metadata": {
        "id": "view-in-github",
        "colab_type": "text"
      },
      "source": [
        "<a href=\"https://colab.research.google.com/github/nitekar/Kamaro_IMLSummative/blob/main/KamaroVulnerability_Classification/notebook.ipynb\" target=\"_parent\"><img src=\"https://colab.research.google.com/assets/colab-badge.svg\" alt=\"Open In Colab\"/></a>"
      ]
    },
    {
      "cell_type": "markdown",
      "metadata": {
        "id": "ujuLMxSvoXbg"
      },
      "source": [
        "# Optimization Techniques in Machine Learning\n",
        "\n",
        "Objective: This assignment aims to explore implementation or Machine Learning Models with regularization, optimization and Error analysis  techniques used in machine learning to improve models' performance, convergence speed, and efficiency..\n",
        "\n",
        "A Notebook detailing the following\n",
        "\n",
        "* Project name : Kamaro vulnerability classification\n",
        "* Clear out puts from cells\n",
        "\n",
        "\n",
        "\n",
        "\n",
        "\n",
        "\n",
        "**Instructions**\n",
        "\n",
        "1. Acquire a dataset suitable for ML tasks as per your proposal.\n",
        "2. Implement a simple machine learning model based on neural networks on the chosen dataset without any defined optimization techniques. (Check instructions)\n",
        "3. Implement and compare the model's performance after applying 3 to 4 disntict combinations regularization and optimization techniques.\n",
        "4. Discuss the results on the README file.\n",
        "5. Make predictions using test data\n",
        "7. Implement error analysis techniques and ensure there is: F1-Score, Recall, Precision, RUC a confusion matrix using plotting libraries (not verbose)\n",
        "\n",
        "Submit notebook to github repo\n",
        "\n"
      ]
    },
    {
      "cell_type": "markdown",
      "metadata": {
        "id": "o8VW_IzbI3od"
      },
      "source": [
        "\n",
        "# Case Study and Implementation\n",
        "\n",
        "\n"
      ]
    },
    {
      "cell_type": "code",
      "execution_count": null,
      "metadata": {
        "colab": {
          "base_uri": "https://localhost:8080/"
        },
        "id": "wGCnpzs9M4Fd",
        "outputId": "1c448fa9-c892-4fb1-ef92-ac7fecf0bb8f"
      },
      "outputs": [
        {
          "output_type": "stream",
          "name": "stdout",
          "text": [
            "Libraries imported successfully!\n"
          ]
        }
      ],
      "source": [
        "import pandas as pd\n",
        "import numpy as np\n",
        "import matplotlib.pyplot as plt\n",
        "import seaborn as sns\n",
        "\n",
        "from sklearn.model_selection import train_test_split, GridSearchCV\n",
        "from sklearn.preprocessing import StandardScaler\n",
        "from sklearn.linear_model import LogisticRegression\n",
        "from sklearn.metrics import confusion_matrix, f1_score, precision_score, recall_score, accuracy_score\n",
        "import xgboost as xgb\n",
        "\n",
        "from tensorflow.keras.models import Sequential, load_model\n",
        "from tensorflow.keras.layers import Dense, Dropout\n",
        "from tensorflow.keras.optimizers import Adam, RMSprop, SGD\n",
        "from tensorflow.keras.regularizers import l2\n",
        "from tensorflow.keras.callbacks import EarlyStopping\n",
        "\n",
        "import warnings\n",
        "warnings.filterwarnings('ignore')\n",
        "\n",
        "print(\"Libraries imported successfully!\")"
      ]
    },
    {
      "cell_type": "markdown",
      "metadata": {
        "id": "M1FN7bFeIxfH"
      },
      "source": [
        "# The Dataset\n",
        "> ***Brief Description:***\n",
        "State the Problem and A short Description of the data\n",
        "\n",
        "\n",
        "###Problem: Predict vulnerability level for humanitarian aid prioritization\n",
        "\n",
        "###Dataset contains location-based displacement information from humanitarian crisis records\n"
      ]
    },
    {
      "cell_type": "markdown",
      "metadata": {
        "id": "0UQBDWABgpkW"
      },
      "source": []
    },
    {
      "cell_type": "code",
      "execution_count": null,
      "metadata": {
        "colab": {
          "base_uri": "https://localhost:8080/"
        },
        "id": "nas-T7xwPIso",
        "outputId": "a6f168e2-f83e-4fe2-8b61-2c0be9a837c5"
      },
      "outputs": [
        {
          "output_type": "stream",
          "name": "stdout",
          "text": [
            "Training set: (133, 8), Test set: (34, 8)\n"
          ]
        }
      ],
      "source": [
        "def load_kamaro_data(filepath):\n",
        "    df = pd.read_csv(\"Country-data.csv\")\n",
        "\n",
        "    df['country'] = pd.qcut(df['child_mort'], q=3, labels=[0, 1, 2])\n",
        "\n",
        "    # Drop unused\n",
        "    features = df.drop(['child_mort', 'country'], axis=1)\n",
        "    labels = df['country'].astype(int)\n",
        "\n",
        "    return train_test_split(features, labels, test_size=0.2, random_state=42, stratify=labels)\n",
        "\n",
        "X_train, X_test, y_train, y_test = load_kamaro_data(\"Country-data.csv\")\n",
        "\n",
        "# Optional scaling\n",
        "scaler = StandardScaler()\n",
        "X_train_scaled = scaler.fit_transform(X_train)\n",
        "X_test_scaled = scaler.transform(X_test)\n",
        "\n",
        "print(f\"Training set: {X_train.shape}, Test set: {X_test.shape}\")"
      ]
    },
    {
      "cell_type": "markdown",
      "metadata": {
        "id": "ve4AiQmGMzIN"
      },
      "source": [
        "#SECTION 1: Model Architecture:\n",
        "\n",
        "\n",
        "\n",
        "```\n",
        "TODO: Insert an image with the Model architecture here.Replace the image Below\n",
        "```\n",
        "> <img src=\"https://miro.medium.com/v2/resize:fit:640/format:webp/1*v1ohAG82xmU6WGsG2hoE8g.png\" alt=\"?\" style=\"width:25px\"/>\n",
        "\n",
        "\n"
      ]
    },
    {
      "cell_type": "markdown",
      "metadata": {
        "id": "QR4BNYoUMzMP"
      },
      "source": [
        "#Task: Define a function that creates models without and With specified Optimization techniques\n"
      ]
    },
    {
      "cell_type": "code",
      "execution_count": null,
      "metadata": {
        "colab": {
          "base_uri": "https://localhost:8080/"
        },
        "id": "gGtPmYb_SDHy",
        "outputId": "18102c31-6012-4e51-8216-d43be09a1465"
      },
      "outputs": [
        {
          "output_type": "stream",
          "name": "stdout",
          "text": [
            "Best Params: {'C': 0.01, 'solver': 'lbfgs'}\n",
            "Accuracy: 0.8235294117647058\n",
            "F1 Score: 0.8184149184149184\n"
          ]
        }
      ],
      "source": [
        "#Logistic Regression\n",
        "lr_params = {\n",
        "    'C': [0.01, 0.1, 1, 10],\n",
        "    'solver': ['liblinear', 'lbfgs']\n",
        "}\n",
        "\n",
        "lr_model = GridSearchCV(LogisticRegression(max_iter=1000), lr_params, cv=5, scoring='f1_macro')\n",
        "lr_model.fit(X_train_scaled, y_train)\n",
        "\n",
        "lr_best = lr_model.best_estimator_\n",
        "lr_pred = lr_best.predict(X_test_scaled)\n",
        "\n",
        "print(\"Best Params:\", lr_model.best_params_)\n",
        "print(\"Accuracy:\", accuracy_score(y_test, lr_pred))\n",
        "print(\"F1 Score:\", f1_score(y_test, lr_pred, average='macro'))\n"
      ]
    },
    {
      "cell_type": "code",
      "source": [
        "# Simple Neural Network\n",
        "def build_simple_nn(input_dim, num_classes):\n",
        "    model = Sequential([\n",
        "        Dense(64, activation='relu', input_shape=(input_dim,)),\n",
        "        Dense(32, activation='relu'),\n",
        "        Dense(num_classes, activation='softmax')\n",
        "    ])\n",
        "    model.compile(optimizer='adam', loss='sparse_categorical_crossentropy', metrics=['accuracy'])\n",
        "    return model\n",
        "\n",
        "simple_model = build_simple_nn(X_train_scaled.shape[1], 3)\n",
        "simple_model.fit(X_train_scaled, y_train, epochs=50, batch_size=32, verbose=0)\n",
        "\n",
        "simple_preds = np.argmax(simple_model.predict(X_test_scaled), axis=1)\n",
        "print(\"Simple NN Accuracy:\", accuracy_score(y_test, simple_preds))"
      ],
      "metadata": {
        "colab": {
          "base_uri": "https://localhost:8080/"
        },
        "id": "DokEM5j1rj5d",
        "outputId": "bac6076a-91c1-4550-e17f-e93a5bf01625"
      },
      "execution_count": null,
      "outputs": [
        {
          "output_type": "stream",
          "name": "stdout",
          "text": [
            "\u001b[1m2/2\u001b[0m \u001b[32m━━━━━━━━━━━━━━━━━━━━\u001b[0m\u001b[37m\u001b[0m \u001b[1m0s\u001b[0m 50ms/step\n",
            "Simple NN Accuracy: 0.8235294117647058\n"
          ]
        }
      ]
    },
    {
      "cell_type": "code",
      "source": [
        "def build_optimized_nn(input_dim, num_classes, optimizer='adam', lr=0.001, dropout=0.3, l2_reg=0.001):\n",
        "    model = Sequential([\n",
        "        Dense(128, activation='relu', kernel_regularizer=l2(l2_reg), input_shape=(input_dim,)),\n",
        "        Dropout(dropout),\n",
        "        Dense(64, activation='relu', kernel_regularizer=l2(l2_reg)),\n",
        "        Dropout(dropout),\n",
        "        Dense(32, activation='relu', kernel_regularizer=l2(l2_reg)),\n",
        "        Dense(num_classes, activation='softmax')\n",
        "    ])\n",
        "\n",
        "    if optimizer == 'adam':\n",
        "        opt = Adam(learning_rate=lr)\n",
        "    elif optimizer == 'rmsprop':\n",
        "        opt = RMSprop(learning_rate=lr)\n",
        "    else:\n",
        "        opt = SGD(learning_rate=lr)\n",
        "\n",
        "    model.compile(optimizer=opt, loss='sparse_categorical_crossentropy', metrics=['accuracy'])\n",
        "    return model\n"
      ],
      "metadata": {
        "id": "fAmOKkDfr8JI"
      },
      "execution_count": null,
      "outputs": []
    },
    {
      "cell_type": "code",
      "source": [
        "results = []\n",
        "histories = []\n",
        "predictions = []\n",
        "\n",
        "configs = [\n",
        "    {'optimizer': 'adam', 'lr': 0.001, 'dropout': 0.3, 'l2': 0.001, 'early_stop': False},\n",
        "    {'optimizer': 'adam', 'lr': 0.01, 'dropout': 0.4, 'l2': 0.01, 'early_stop': True},\n",
        "    {'optimizer': 'rmsprop', 'lr': 0.005, 'dropout': 0.5, 'l2': 0.005, 'early_stop': False},\n",
        "    {'optimizer': 'sgd', 'lr': 0.01, 'dropout': 0.2, 'l2': 0.01, 'early_stop': True},\n",
        "    {'optimizer': 'adam', 'lr': 0.1, 'dropout': 0.6, 'l2': 0.1, 'early_stop': False},\n",
        "]\n",
        "\n",
        "for i, cfg in enumerate(configs):\n",
        "    print(f\"\\nTraining NN Instance {i+1}\")\n",
        "    model = build_optimized_nn(X_train_scaled.shape[1], 3,\n",
        "                               optimizer=cfg['optimizer'],\n",
        "                               lr=cfg['lr'],\n",
        "                               dropout=cfg['dropout'],\n",
        "                               l2_reg=cfg['l2'])\n",
        "\n",
        "    callbacks = [EarlyStopping(monitor='val_loss', patience=10, restore_best_weights=True)] if cfg['early_stop'] else []\n",
        "\n",
        "    history = model.fit(X_train_scaled, y_train,\n",
        "                        validation_split=0.2,\n",
        "                        epochs=100, batch_size=32,\n",
        "                        callbacks=callbacks, verbose=0)\n",
        "\n",
        "    pred = np.argmax(model.predict(X_test_scaled), axis=1)\n",
        "\n",
        "    results.append({\n",
        "        'Instance': i + 1,\n",
        "        'Optimizer': cfg['optimizer'],\n",
        "        'Learning_Rate': cfg['lr'],\n",
        "        'Dropout': cfg['dropout'],\n",
        "        'L2_Regularization': cfg['l2'],\n",
        "        'Early_Stopping': 'Yes' if cfg['early_stop'] else 'No',\n",
        "        'Epochs': len(history.history['loss']),\n",
        "        'Accuracy': accuracy_score(y_test, pred),\n",
        "        'F1': f1_score(y_test, pred, average='macro'),\n",
        "        'Precision': precision_score(y_test, pred, average='macro'),\n",
        "        'Recall': recall_score(y_test, pred, average='macro')\n",
        "    })\n",
        "\n",
        "    predictions.append(pred)\n",
        "    histories.append(history)\n"
      ],
      "metadata": {
        "colab": {
          "base_uri": "https://localhost:8080/"
        },
        "id": "3rAloxkcsPWv",
        "outputId": "df2d5968-6756-4e4b-8eff-b0366faff2ac"
      },
      "execution_count": null,
      "outputs": [
        {
          "output_type": "stream",
          "name": "stdout",
          "text": [
            "\n",
            "Training NN Instance 1\n",
            "\u001b[1m2/2\u001b[0m \u001b[32m━━━━━━━━━━━━━━━━━━━━\u001b[0m\u001b[37m\u001b[0m \u001b[1m0s\u001b[0m 59ms/step\n",
            "\n",
            "Training NN Instance 2\n"
          ]
        },
        {
          "output_type": "stream",
          "name": "stderr",
          "text": [
            "WARNING:tensorflow:5 out of the last 5 calls to <function TensorFlowTrainer.make_predict_function.<locals>.one_step_on_data_distributed at 0x7d056afd6980> triggered tf.function retracing. Tracing is expensive and the excessive number of tracings could be due to (1) creating @tf.function repeatedly in a loop, (2) passing tensors with different shapes, (3) passing Python objects instead of tensors. For (1), please define your @tf.function outside of the loop. For (2), @tf.function has reduce_retracing=True option that can avoid unnecessary retracing. For (3), please refer to https://www.tensorflow.org/guide/function#controlling_retracing and https://www.tensorflow.org/api_docs/python/tf/function for  more details.\n"
          ]
        },
        {
          "output_type": "stream",
          "name": "stdout",
          "text": [
            "\r\u001b[1m1/2\u001b[0m \u001b[32m━━━━━━━━━━\u001b[0m\u001b[37m━━━━━━━━━━\u001b[0m \u001b[1m0s\u001b[0m 58ms/step"
          ]
        },
        {
          "output_type": "stream",
          "name": "stderr",
          "text": [
            "WARNING:tensorflow:6 out of the last 6 calls to <function TensorFlowTrainer.make_predict_function.<locals>.one_step_on_data_distributed at 0x7d056afd6980> triggered tf.function retracing. Tracing is expensive and the excessive number of tracings could be due to (1) creating @tf.function repeatedly in a loop, (2) passing tensors with different shapes, (3) passing Python objects instead of tensors. For (1), please define your @tf.function outside of the loop. For (2), @tf.function has reduce_retracing=True option that can avoid unnecessary retracing. For (3), please refer to https://www.tensorflow.org/guide/function#controlling_retracing and https://www.tensorflow.org/api_docs/python/tf/function for  more details.\n"
          ]
        },
        {
          "output_type": "stream",
          "name": "stdout",
          "text": [
            "\b\b\b\b\b\b\b\b\b\b\b\b\b\b\b\b\b\b\b\b\b\b\b\b\b\b\b\b\b\b\b\b\b\b\b\b\b\r\u001b[1m2/2\u001b[0m \u001b[32m━━━━━━━━━━━━━━━━━━━━\u001b[0m\u001b[37m\u001b[0m \u001b[1m0s\u001b[0m 60ms/step\n",
            "\n",
            "Training NN Instance 3\n",
            "\u001b[1m2/2\u001b[0m \u001b[32m━━━━━━━━━━━━━━━━━━━━\u001b[0m\u001b[37m\u001b[0m \u001b[1m0s\u001b[0m 118ms/step\n",
            "\n",
            "Training NN Instance 4\n",
            "\u001b[1m2/2\u001b[0m \u001b[32m━━━━━━━━━━━━━━━━━━━━\u001b[0m\u001b[37m\u001b[0m \u001b[1m0s\u001b[0m 58ms/step\n",
            "\n",
            "Training NN Instance 5\n",
            "\u001b[1m2/2\u001b[0m \u001b[32m━━━━━━━━━━━━━━━━━━━━\u001b[0m\u001b[37m\u001b[0m \u001b[1m0s\u001b[0m 58ms/step\n"
          ]
        }
      ]
    },
    {
      "cell_type": "markdown",
      "metadata": {
        "id": "KJ9OXp1TSaXn"
      },
      "source": [
        "# Task: Print out the Final Model Accuracy and plot the Loss curve"
      ]
    },
    {
      "cell_type": "code",
      "execution_count": null,
      "metadata": {
        "colab": {
          "base_uri": "https://localhost:8080/"
        },
        "id": "fkihQBsaUxGh",
        "outputId": "ec0b7bd9-975b-480c-fd10-947ee94b1c36"
      },
      "outputs": [
        {
          "output_type": "stream",
          "name": "stdout",
          "text": [
            "Optimized Neural Network Results:\n",
            "   Instance Optimizer  Learning_Rate  Dropout  L2_Regularization  \\\n",
            "0         1      adam          0.001      0.3              0.001   \n",
            "1         2      adam          0.010      0.4              0.010   \n",
            "2         3   rmsprop          0.005      0.5              0.005   \n",
            "3         4       sgd          0.010      0.2              0.010   \n",
            "4         5      adam          0.100      0.6              0.100   \n",
            "\n",
            "  Early_Stopping  Epochs  Accuracy      F1  Precision  Recall  \n",
            "0             No     100    0.7647  0.7594     0.7608  0.7601  \n",
            "1            Yes      45    0.8235  0.8184     0.8242  0.8207  \n",
            "2             No     100    0.8235  0.8165     0.8191  0.8207  \n",
            "3            Yes     100    0.8529  0.8503     0.8517  0.8510  \n",
            "4             No     100    0.3235  0.1630     0.1078  0.3333  \n"
          ]
        }
      ],
      "source": [
        "results_df = pd.DataFrame(results)\n",
        "print(\"Optimized Neural Network Results:\")\n",
        "print(results_df.round(4))\n"
      ]
    },
    {
      "cell_type": "code",
      "source": [
        "xgb_params = {\n",
        "    'n_estimators': [100],\n",
        "    'max_depth': [3, 5],\n",
        "    'learning_rate': [0.01, 0.1],\n",
        "    'subsample': [0.8, 1.0]\n",
        "}\n",
        "\n",
        "xgb_grid = GridSearchCV(xgb.XGBClassifier(objective='multi:softmax', num_class=3),\n",
        "                        xgb_params, cv=3, scoring='f1_macro', verbose=0)\n",
        "\n",
        "xgb_grid.fit(X_train_scaled, y_train)\n",
        "xgb_model = xgb_grid.best_estimator_\n",
        "\n",
        "xgb_preds = xgb_model.predict(X_test_scaled)\n",
        "print(\"XGBoost Accuracy:\", accuracy_score(y_test, xgb_preds))\n"
      ],
      "metadata": {
        "colab": {
          "base_uri": "https://localhost:8080/"
        },
        "id": "GmhBoh7Qt8dK",
        "outputId": "0f72c3cb-212d-4599-9989-f96fb1a3f62b"
      },
      "execution_count": null,
      "outputs": [
        {
          "output_type": "stream",
          "name": "stdout",
          "text": [
            "XGBoost Accuracy: 0.7647058823529411\n"
          ]
        }
      ]
    },
    {
      "cell_type": "code",
      "source": [
        "best_idx = results_df['F1'].idxmax()\n",
        "best_history = histories[best_idx]\n",
        "best_pred = predictions[best_idx]\n",
        "\n",
        "plt.figure(figsize=(15, 5))\n",
        "plt.subplot(1, 2, 1)\n",
        "plt.plot(best_history.history['loss'], label='Train Loss')\n",
        "plt.plot(best_history.history['val_loss'], label='Val Loss')\n",
        "plt.title('Best Neural Network Loss')\n",
        "plt.legend()\n",
        "\n",
        "plt.subplot(1, 2, 2)\n",
        "cm = confusion_matrix(y_test, best_pred)\n",
        "sns.heatmap(cm, annot=True, fmt='d', cmap='Blues')\n",
        "plt.title('Confusion Matrix')\n",
        "plt.xlabel('Predicted')\n",
        "plt.ylabel('True')\n",
        "plt.tight_layout()\n",
        "plt.show()\n"
      ],
      "metadata": {
        "colab": {
          "base_uri": "https://localhost:8080/",
          "height": 336
        },
        "id": "2voFV_TCuMh7",
        "outputId": "1e10f5dc-73f5-45fa-d40d-b3edeabcd87d"
      },
      "execution_count": null,
      "outputs": [
        {
          "output_type": "display_data",
          "data": {
            "text/plain": [
              "<Figure size 1500x500 with 3 Axes>"
            ],
            "image/png": "[encoded data removed]"
          },
          "metadata": {}
        }
      ]
    },
    {
      "cell_type": "markdown",
      "metadata": {
        "id": "9hc6k2taT0_n"
      },
      "source": [
        "# SECTION 2: Optimization and Regularization Combinations\n",
        "At this point you should now create models that combine various optimization techniques\n",
        "As done before make sure to plot out the loss curve and the accuracy and loss in verbose"
      ]
    },
    {
      "cell_type": "markdown",
      "metadata": {
        "id": "3aZLEriYOXI1"
      },
      "source": [
        "#Task: Make Predictions using the best saved model\n"
      ]
    },
    {
      "cell_type": "markdown",
      "metadata": {
        "id": "LnBLwqTJX3p0"
      },
      "source": [
        "Create a confusion Matrix and F1 score for both Models. Ensure outputs for the cells are visible"
      ]
    },
    {
      "cell_type": "markdown",
      "metadata": {
        "id": "bO79SOsZYG-M"
      },
      "source": [
        "Finally, Make predictions using the best model. By the time you get to this cell you may realise at some point you needed to save the model so that you cal load it later"
      ]
    },
    {
      "cell_type": "code",
      "execution_count": null,
      "metadata": {
        "id": "Nqqe2PasUIAG",
        "colab": {
          "base_uri": "https://localhost:8080/"
        },
        "outputId": "eb155756-e088-4631-ee41-a9453b8c0262"
      },
      "outputs": [
        {
          "output_type": "stream",
          "name": "stdout",
          "text": [
            "Created directory: saved_models\n"
          ]
        }
      ],
      "source": [
        "import os\n",
        "best_model = build_optimized_nn(X_train_scaled.shape[1], 3,\n",
        "                                optimizer=configs[best_idx]['optimizer'],\n",
        "                                lr=configs[best_idx]['lr'],\n",
        "                                dropout=configs[best_idx]['dropout'],\n",
        "                                l2_reg=configs[best_idx]['l2'])\n",
        "\n",
        "save_dir = 'saved_models'\n",
        "if not os.path.exists(save_dir):\n",
        "    os.makedirs(save_dir)\n",
        "    print(f\"Created directory: {save_dir}\")\n",
        "\n",
        "best_model.fit(X_train_scaled, y_train, epochs=50, batch_size=32, verbose=0)\n",
        "best_model.save('saved_models/best_kamaro_model.keras')\n"
      ]
    },
    {
      "cell_type": "code",
      "execution_count": null,
      "metadata": {
        "id": "O_jwbvaAUMj4",
        "colab": {
          "base_uri": "https://localhost:8080/"
        },
        "outputId": "3f5aaef2-c1e1-4cd3-eda4-44530e4dd1f9"
      },
      "outputs": [
        {
          "output_type": "stream",
          "name": "stdout",
          "text": [
            "\u001b[1m1/1\u001b[0m \u001b[32m━━━━━━━━━━━━━━━━━━━━\u001b[0m\u001b[37m\u001b[0m \u001b[1m0s\u001b[0m 199ms/step\n",
            "[1 0 0 1 2 2 2 1 0 0]\n"
          ]
        }
      ],
      "source": [
        "loaded_model = load_model('saved_models/best_kamaro_model.keras')\n",
        "preds = loaded_model.predict(X_test_scaled[:10])\n",
        "classes = np.argmax(preds, axis=1)\n",
        "print(classes)"
      ]
    },
    {
      "cell_type": "markdown",
      "metadata": {
        "id": "rfTHk2nZMzTH"
      },
      "source": [
        "Congratulations!!\n"
      ]
    }
  ],
  "metadata": {
    "colab": {
      "provenance": [],
      "include_colab_link": true
    },
    "kernelspec": {
      "display_name": "Python 3",
      "name": "python3"
    },
    "language_info": {
      "name": "python"
    }
  },
  "nbformat": 4,
  "nbformat_minor": 0
}